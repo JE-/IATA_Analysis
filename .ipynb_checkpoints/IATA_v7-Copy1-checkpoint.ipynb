{
 "cells": [
  {
   "cell_type": "code",
   "execution_count": 1,
   "metadata": {
    "collapsed": false
   },
   "outputs": [],
   "source": [
    "import os\n",
    "import re\n",
    "import datetime\n",
    "import pandas as pd\n",
    "import numpy as np\n",
    "import seaborn as sns\n",
    "import matplotlib\n",
    "import matplotlib.pyplot as plt\n",
    "pd.set_option('display.max_row', 1000)\n",
    "%matplotlib inline\n",
    "matplotlib.rcParams['savefig.dpi'] = 1.3 * matplotlib.rcParams['savefig.dpi']"
   ]
  },
  {
   "cell_type": "markdown",
   "metadata": {},
   "source": [
    "### 1.1 Read all the tables we will be working with"
   ]
  },
  {
   "cell_type": "code",
   "execution_count": 2,
   "metadata": {
    "collapsed": false
   },
   "outputs": [
    {
     "name": "stdout",
     "output_type": "stream",
     "text": [
      "(1491, 2)\n"
     ]
    },
    {
     "data": {
      "text/html": [
       "<div>\n",
       "<table border=\"1\" class=\"dataframe\">\n",
       "  <thead>\n",
       "    <tr style=\"text-align: right;\">\n",
       "      <th></th>\n",
       "      <th>Code</th>\n",
       "      <th>Description</th>\n",
       "    </tr>\n",
       "  </thead>\n",
       "  <tbody>\n",
       "    <tr>\n",
       "      <th>0</th>\n",
       "      <td>02Q</td>\n",
       "      <td>Titan Airways</td>\n",
       "    </tr>\n",
       "    <tr>\n",
       "      <th>1</th>\n",
       "      <td>04Q</td>\n",
       "      <td>Tradewind Aviation</td>\n",
       "    </tr>\n",
       "    <tr>\n",
       "      <th>2</th>\n",
       "      <td>05Q</td>\n",
       "      <td>Comlux Aviation, AG</td>\n",
       "    </tr>\n",
       "    <tr>\n",
       "      <th>3</th>\n",
       "      <td>06Q</td>\n",
       "      <td>Master Top Linhas Aereas Ltd.</td>\n",
       "    </tr>\n",
       "    <tr>\n",
       "      <th>4</th>\n",
       "      <td>07Q</td>\n",
       "      <td>Flair Airlines Ltd.</td>\n",
       "    </tr>\n",
       "  </tbody>\n",
       "</table>\n",
       "</div>"
      ],
      "text/plain": [
       "  Code                    Description\n",
       "0  02Q                  Titan Airways\n",
       "1  04Q             Tradewind Aviation\n",
       "2  05Q            Comlux Aviation, AG\n",
       "3  06Q  Master Top Linhas Aereas Ltd.\n",
       "4  07Q            Flair Airlines Ltd."
      ]
     },
     "execution_count": 2,
     "metadata": {},
     "output_type": "execute_result"
    }
   ],
   "source": [
    "# Read carriers table\n",
    "carriers = pd.read_excel('carriers.xls').dropna(axis=0, how='all').reset_index(drop = True)\n",
    "print carriers.shape\n",
    "carriers.head()"
   ]
  },
  {
   "cell_type": "code",
   "execution_count": 3,
   "metadata": {
    "collapsed": false
   },
   "outputs": [
    {
     "data": {
      "text/html": [
       "<div>\n",
       "<table border=\"1\" class=\"dataframe\">\n",
       "  <thead>\n",
       "    <tr style=\"text-align: right;\">\n",
       "      <th></th>\n",
       "      <th>Code</th>\n",
       "      <th>Description</th>\n",
       "    </tr>\n",
       "  </thead>\n",
       "  <tbody>\n",
       "    <tr>\n",
       "      <th>100</th>\n",
       "      <td>AA</td>\n",
       "      <td>American Airlines Inc.</td>\n",
       "    </tr>\n",
       "  </tbody>\n",
       "</table>\n",
       "</div>"
      ],
      "text/plain": [
       "    Code             Description\n",
       "100   AA  American Airlines Inc."
      ]
     },
     "execution_count": 3,
     "metadata": {},
     "output_type": "execute_result"
    }
   ],
   "source": [
    "carriers.to_csv('carriers.csv')\n",
    "carriers[carriers['Code'] == 'AA']"
   ]
  },
  {
   "cell_type": "code",
   "execution_count": 4,
   "metadata": {
    "collapsed": false
   },
   "outputs": [
    {
     "name": "stdout",
     "output_type": "stream",
     "text": [
      "(3376, 7)\n"
     ]
    },
    {
     "data": {
      "text/html": [
       "<div>\n",
       "<table border=\"1\" class=\"dataframe\">\n",
       "  <thead>\n",
       "    <tr style=\"text-align: right;\">\n",
       "      <th></th>\n",
       "      <th>iata</th>\n",
       "      <th>airport</th>\n",
       "      <th>city</th>\n",
       "      <th>state</th>\n",
       "      <th>country</th>\n",
       "      <th>lat</th>\n",
       "      <th>long</th>\n",
       "    </tr>\n",
       "  </thead>\n",
       "  <tbody>\n",
       "    <tr>\n",
       "      <th>0</th>\n",
       "      <td>00M</td>\n",
       "      <td>Thigpen</td>\n",
       "      <td>Bay Springs</td>\n",
       "      <td>MS</td>\n",
       "      <td>USA</td>\n",
       "      <td>31.953765</td>\n",
       "      <td>-89.234505</td>\n",
       "    </tr>\n",
       "    <tr>\n",
       "      <th>1</th>\n",
       "      <td>00R</td>\n",
       "      <td>Livingston Municipal</td>\n",
       "      <td>Livingston</td>\n",
       "      <td>TX</td>\n",
       "      <td>USA</td>\n",
       "      <td>30.685861</td>\n",
       "      <td>-95.017928</td>\n",
       "    </tr>\n",
       "    <tr>\n",
       "      <th>2</th>\n",
       "      <td>00V</td>\n",
       "      <td>Meadow Lake</td>\n",
       "      <td>Colorado Springs</td>\n",
       "      <td>CO</td>\n",
       "      <td>USA</td>\n",
       "      <td>38.945749</td>\n",
       "      <td>-104.569893</td>\n",
       "    </tr>\n",
       "    <tr>\n",
       "      <th>3</th>\n",
       "      <td>01G</td>\n",
       "      <td>Perry-Warsaw</td>\n",
       "      <td>Perry</td>\n",
       "      <td>NY</td>\n",
       "      <td>USA</td>\n",
       "      <td>42.741347</td>\n",
       "      <td>-78.052081</td>\n",
       "    </tr>\n",
       "    <tr>\n",
       "      <th>4</th>\n",
       "      <td>01J</td>\n",
       "      <td>Hilliard Airpark</td>\n",
       "      <td>Hilliard</td>\n",
       "      <td>FL</td>\n",
       "      <td>USA</td>\n",
       "      <td>30.688012</td>\n",
       "      <td>-81.905944</td>\n",
       "    </tr>\n",
       "  </tbody>\n",
       "</table>\n",
       "</div>"
      ],
      "text/plain": [
       "  iata               airport              city state country        lat  \\\n",
       "0  00M              Thigpen        Bay Springs    MS     USA  31.953765   \n",
       "1  00R  Livingston Municipal        Livingston    TX     USA  30.685861   \n",
       "2  00V           Meadow Lake  Colorado Springs    CO     USA  38.945749   \n",
       "3  01G          Perry-Warsaw             Perry    NY     USA  42.741347   \n",
       "4  01J      Hilliard Airpark          Hilliard    FL     USA  30.688012   \n",
       "\n",
       "         long  \n",
       "0  -89.234505  \n",
       "1  -95.017928  \n",
       "2 -104.569893  \n",
       "3  -78.052081  \n",
       "4  -81.905944  "
      ]
     },
     "execution_count": 4,
     "metadata": {},
     "output_type": "execute_result"
    }
   ],
   "source": [
    "# Read airports data\n",
    "airports = pd.read_excel('airports new.xlt').dropna(axis=0, how='all').reset_index(drop = True)\n",
    "print airports.shape\n",
    "airports.head()"
   ]
  },
  {
   "cell_type": "code",
   "execution_count": 5,
   "metadata": {
    "collapsed": false
   },
   "outputs": [
    {
     "data": {
      "text/html": [
       "<div>\n",
       "<table border=\"1\" class=\"dataframe\">\n",
       "  <thead>\n",
       "    <tr style=\"text-align: right;\">\n",
       "      <th></th>\n",
       "      <th>iata</th>\n",
       "      <th>airport</th>\n",
       "      <th>city</th>\n",
       "      <th>state</th>\n",
       "      <th>country</th>\n",
       "      <th>lat</th>\n",
       "      <th>long</th>\n",
       "    </tr>\n",
       "  </thead>\n",
       "  <tbody>\n",
       "    <tr>\n",
       "      <th>1436</th>\n",
       "      <td>EWR</td>\n",
       "      <td>Newark Intl</td>\n",
       "      <td>Newark</td>\n",
       "      <td>NJ</td>\n",
       "      <td>USA</td>\n",
       "      <td>40.692497</td>\n",
       "      <td>-74.168661</td>\n",
       "    </tr>\n",
       "  </tbody>\n",
       "</table>\n",
       "</div>"
      ],
      "text/plain": [
       "     iata      airport    city state country        lat       long\n",
       "1436  EWR  Newark Intl  Newark    NJ     USA  40.692497 -74.168661"
      ]
     },
     "execution_count": 5,
     "metadata": {},
     "output_type": "execute_result"
    }
   ],
   "source": [
    "airports.to_csv('airports.csv')\n",
    "airports[airports['iata'] == 'EWR']"
   ]
  },
  {
   "cell_type": "markdown",
   "metadata": {
    "collapsed": true
   },
   "source": [
    "### 1.2 Import data from SQL database we created"
   ]
  },
  {
   "cell_type": "code",
   "execution_count": 6,
   "metadata": {
    "collapsed": true
   },
   "outputs": [],
   "source": [
    "# Read data from SQlite database (see \"Create_Databse.ipynb\" for more info on how the db was created)\n",
    "import pandas as pd\n",
    "import sqlite3\n",
    "pd.set_option('display.max_rows', 8)\n",
    "conn = sqlite3.connect('data/IATA.sqlite')\n",
    "c = conn.cursor()"
   ]
  },
  {
   "cell_type": "code",
   "execution_count": 7,
   "metadata": {
    "collapsed": true
   },
   "outputs": [],
   "source": [
    "df = pd.read_sql_query('SELECT count(*) FROM Flights', conn)"
   ]
  },
  {
   "cell_type": "code",
   "execution_count": 8,
   "metadata": {
    "collapsed": false
   },
   "outputs": [
    {
     "data": {
      "text/html": [
       "<div>\n",
       "<table border=\"1\" class=\"dataframe\">\n",
       "  <thead>\n",
       "    <tr style=\"text-align: right;\">\n",
       "      <th></th>\n",
       "      <th>count(*)</th>\n",
       "    </tr>\n",
       "  </thead>\n",
       "  <tbody>\n",
       "    <tr>\n",
       "      <th>0</th>\n",
       "      <td>64697923</td>\n",
       "    </tr>\n",
       "  </tbody>\n",
       "</table>\n",
       "</div>"
      ],
      "text/plain": [
       "   count(*)\n",
       "0  64697923"
      ]
     },
     "execution_count": 8,
     "metadata": {},
     "output_type": "execute_result"
    }
   ],
   "source": [
    "df"
   ]
  },
  {
   "cell_type": "code",
   "execution_count": 9,
   "metadata": {
    "collapsed": true
   },
   "outputs": [],
   "source": [
    "# Only 2015 data\n",
    "df_2015 = pd.read_sql_query('SELECT * FROM Flights WHERE year = 2015', conn)"
   ]
  },
  {
   "cell_type": "code",
   "execution_count": 10,
   "metadata": {
    "collapsed": false
   },
   "outputs": [
    {
     "data": {
      "text/plain": [
       "5819079"
      ]
     },
     "execution_count": 10,
     "metadata": {},
     "output_type": "execute_result"
    }
   ],
   "source": [
    "df_2015.shape[0]"
   ]
  },
  {
   "cell_type": "code",
   "execution_count": 11,
   "metadata": {
    "collapsed": false
   },
   "outputs": [
    {
     "data": {
      "text/html": [
       "<div>\n",
       "<table border=\"1\" class=\"dataframe\">\n",
       "  <thead>\n",
       "    <tr style=\"text-align: right;\">\n",
       "      <th></th>\n",
       "      <th>YEAR</th>\n",
       "      <th>MONTH</th>\n",
       "      <th>DAY_OF_MONTH</th>\n",
       "      <th>DAY_OF_WEEK</th>\n",
       "      <th>FL_DATE</th>\n",
       "      <th>UNIQUE_CARRIER</th>\n",
       "      <th>AIRLINE_ID</th>\n",
       "      <th>CARRIER</th>\n",
       "      <th>TAIL_NUM</th>\n",
       "      <th>FL_NUM</th>\n",
       "      <th>...</th>\n",
       "      <th>ACTUAL_ELAPSED_TIME</th>\n",
       "      <th>AIR_TIME</th>\n",
       "      <th>FLIGHTS</th>\n",
       "      <th>DISTANCE</th>\n",
       "      <th>CARRIER_DELAY</th>\n",
       "      <th>WEATHER_DELAY</th>\n",
       "      <th>NAS_DELAY</th>\n",
       "      <th>SECURITY_DELAY</th>\n",
       "      <th>LATE_AIRCRAFT_DELAY</th>\n",
       "      <th>Unnamed: 44</th>\n",
       "    </tr>\n",
       "  </thead>\n",
       "  <tbody>\n",
       "    <tr>\n",
       "      <th>0</th>\n",
       "      <td>2015</td>\n",
       "      <td>1</td>\n",
       "      <td>22</td>\n",
       "      <td>4</td>\n",
       "      <td>2015-01-22</td>\n",
       "      <td>DL</td>\n",
       "      <td>19790</td>\n",
       "      <td>DL</td>\n",
       "      <td>N969DL</td>\n",
       "      <td>1485</td>\n",
       "      <td>...</td>\n",
       "      <td>203.0</td>\n",
       "      <td>134.0</td>\n",
       "      <td>1.0</td>\n",
       "      <td>950.0</td>\n",
       "      <td>NaN</td>\n",
       "      <td>NaN</td>\n",
       "      <td>NaN</td>\n",
       "      <td>NaN</td>\n",
       "      <td>NaN</td>\n",
       "      <td>NaN</td>\n",
       "    </tr>\n",
       "    <tr>\n",
       "      <th>1</th>\n",
       "      <td>2015</td>\n",
       "      <td>1</td>\n",
       "      <td>22</td>\n",
       "      <td>4</td>\n",
       "      <td>2015-01-22</td>\n",
       "      <td>DL</td>\n",
       "      <td>19790</td>\n",
       "      <td>DL</td>\n",
       "      <td>N912DL</td>\n",
       "      <td>1486</td>\n",
       "      <td>...</td>\n",
       "      <td>105.0</td>\n",
       "      <td>90.0</td>\n",
       "      <td>1.0</td>\n",
       "      <td>762.0</td>\n",
       "      <td>NaN</td>\n",
       "      <td>NaN</td>\n",
       "      <td>NaN</td>\n",
       "      <td>NaN</td>\n",
       "      <td>NaN</td>\n",
       "      <td>NaN</td>\n",
       "    </tr>\n",
       "    <tr>\n",
       "      <th>2</th>\n",
       "      <td>2015</td>\n",
       "      <td>1</td>\n",
       "      <td>22</td>\n",
       "      <td>4</td>\n",
       "      <td>2015-01-22</td>\n",
       "      <td>DL</td>\n",
       "      <td>19790</td>\n",
       "      <td>DL</td>\n",
       "      <td>N359NW</td>\n",
       "      <td>1487</td>\n",
       "      <td>...</td>\n",
       "      <td>263.0</td>\n",
       "      <td>240.0</td>\n",
       "      <td>1.0</td>\n",
       "      <td>1956.0</td>\n",
       "      <td>NaN</td>\n",
       "      <td>NaN</td>\n",
       "      <td>NaN</td>\n",
       "      <td>NaN</td>\n",
       "      <td>NaN</td>\n",
       "      <td>NaN</td>\n",
       "    </tr>\n",
       "    <tr>\n",
       "      <th>3</th>\n",
       "      <td>2015</td>\n",
       "      <td>1</td>\n",
       "      <td>22</td>\n",
       "      <td>4</td>\n",
       "      <td>2015-01-22</td>\n",
       "      <td>DL</td>\n",
       "      <td>19790</td>\n",
       "      <td>DL</td>\n",
       "      <td>N957AT</td>\n",
       "      <td>1488</td>\n",
       "      <td>...</td>\n",
       "      <td>46.0</td>\n",
       "      <td>29.0</td>\n",
       "      <td>1.0</td>\n",
       "      <td>143.0</td>\n",
       "      <td>NaN</td>\n",
       "      <td>NaN</td>\n",
       "      <td>NaN</td>\n",
       "      <td>NaN</td>\n",
       "      <td>NaN</td>\n",
       "      <td>NaN</td>\n",
       "    </tr>\n",
       "    <tr>\n",
       "      <th>4</th>\n",
       "      <td>2015</td>\n",
       "      <td>1</td>\n",
       "      <td>22</td>\n",
       "      <td>4</td>\n",
       "      <td>2015-01-22</td>\n",
       "      <td>DL</td>\n",
       "      <td>19790</td>\n",
       "      <td>DL</td>\n",
       "      <td>N985DL</td>\n",
       "      <td>1489</td>\n",
       "      <td>...</td>\n",
       "      <td>140.0</td>\n",
       "      <td>123.0</td>\n",
       "      <td>1.0</td>\n",
       "      <td>689.0</td>\n",
       "      <td>NaN</td>\n",
       "      <td>NaN</td>\n",
       "      <td>NaN</td>\n",
       "      <td>NaN</td>\n",
       "      <td>NaN</td>\n",
       "      <td>NaN</td>\n",
       "    </tr>\n",
       "  </tbody>\n",
       "</table>\n",
       "<p>5 rows × 45 columns</p>\n",
       "</div>"
      ],
      "text/plain": [
       "   YEAR  MONTH  DAY_OF_MONTH  DAY_OF_WEEK     FL_DATE UNIQUE_CARRIER  \\\n",
       "0  2015      1            22            4  2015-01-22             DL   \n",
       "1  2015      1            22            4  2015-01-22             DL   \n",
       "2  2015      1            22            4  2015-01-22             DL   \n",
       "3  2015      1            22            4  2015-01-22             DL   \n",
       "4  2015      1            22            4  2015-01-22             DL   \n",
       "\n",
       "   AIRLINE_ID CARRIER TAIL_NUM  FL_NUM     ...       ACTUAL_ELAPSED_TIME  \\\n",
       "0       19790      DL   N969DL    1485     ...                     203.0   \n",
       "1       19790      DL   N912DL    1486     ...                     105.0   \n",
       "2       19790      DL   N359NW    1487     ...                     263.0   \n",
       "3       19790      DL   N957AT    1488     ...                      46.0   \n",
       "4       19790      DL   N985DL    1489     ...                     140.0   \n",
       "\n",
       "   AIR_TIME  FLIGHTS DISTANCE CARRIER_DELAY WEATHER_DELAY  NAS_DELAY  \\\n",
       "0     134.0      1.0    950.0           NaN           NaN        NaN   \n",
       "1      90.0      1.0    762.0           NaN           NaN        NaN   \n",
       "2     240.0      1.0   1956.0           NaN           NaN        NaN   \n",
       "3      29.0      1.0    143.0           NaN           NaN        NaN   \n",
       "4     123.0      1.0    689.0           NaN           NaN        NaN   \n",
       "\n",
       "  SECURITY_DELAY  LATE_AIRCRAFT_DELAY  Unnamed: 44  \n",
       "0            NaN                  NaN          NaN  \n",
       "1            NaN                  NaN          NaN  \n",
       "2            NaN                  NaN          NaN  \n",
       "3            NaN                  NaN          NaN  \n",
       "4            NaN                  NaN          NaN  \n",
       "\n",
       "[5 rows x 45 columns]"
      ]
     },
     "execution_count": 11,
     "metadata": {},
     "output_type": "execute_result"
    }
   ],
   "source": [
    "df_2015.head()"
   ]
  },
  {
   "cell_type": "code",
   "execution_count": 12,
   "metadata": {
    "collapsed": false
   },
   "outputs": [],
   "source": [
    "# # to cartodb\n",
    "# # for i,c in enumerate(df.columns):\n",
    "# #     print i,c\n",
    "# df_cartodb = df[[4,7,13,22,28,30]]\n",
    "# df_cartodb.head()\n",
    "# df_cartodb.to_csv('flights_2015.csv')"
   ]
  },
  {
   "cell_type": "code",
   "execution_count": 13,
   "metadata": {
    "collapsed": false
   },
   "outputs": [
    {
     "name": "stdout",
     "output_type": "stream",
     "text": [
      "0 1 2 3 4 5 6 7 8 9 10 11 12 13"
     ]
    },
    {
     "data": {
      "text/html": [
       "<div>\n",
       "<table border=\"1\" class=\"dataframe\">\n",
       "  <thead>\n",
       "    <tr style=\"text-align: right;\">\n",
       "      <th></th>\n",
       "      <th>Carrier</th>\n",
       "      <th>Sum</th>\n",
       "      <th>Description</th>\n",
       "    </tr>\n",
       "  </thead>\n",
       "  <tbody>\n",
       "    <tr>\n",
       "      <th>0</th>\n",
       "      <td>WN</td>\n",
       "      <td>1261855</td>\n",
       "      <td>Southwest Airlines Co.</td>\n",
       "    </tr>\n",
       "    <tr>\n",
       "      <th>1</th>\n",
       "      <td>DL</td>\n",
       "      <td>875881</td>\n",
       "      <td>Delta Air Lines Inc.</td>\n",
       "    </tr>\n",
       "    <tr>\n",
       "      <th>2</th>\n",
       "      <td>AA</td>\n",
       "      <td>725984</td>\n",
       "      <td>American Airlines Inc.</td>\n",
       "    </tr>\n",
       "    <tr>\n",
       "      <th>3</th>\n",
       "      <td>OO</td>\n",
       "      <td>588353</td>\n",
       "      <td>Skywest Airlines Inc.</td>\n",
       "    </tr>\n",
       "    <tr>\n",
       "      <th>...</th>\n",
       "      <td>...</td>\n",
       "      <td>...</td>\n",
       "      <td>...</td>\n",
       "    </tr>\n",
       "    <tr>\n",
       "      <th>10</th>\n",
       "      <td>NK</td>\n",
       "      <td>117379</td>\n",
       "      <td>Spirit Air Lines</td>\n",
       "    </tr>\n",
       "    <tr>\n",
       "      <th>11</th>\n",
       "      <td>F9</td>\n",
       "      <td>90836</td>\n",
       "      <td>Frontier Airlines Inc.</td>\n",
       "    </tr>\n",
       "    <tr>\n",
       "      <th>12</th>\n",
       "      <td>HA</td>\n",
       "      <td>76272</td>\n",
       "      <td>Hawaiian Airlines Inc.</td>\n",
       "    </tr>\n",
       "    <tr>\n",
       "      <th>13</th>\n",
       "      <td>VX</td>\n",
       "      <td>61903</td>\n",
       "      <td>Virgin America</td>\n",
       "    </tr>\n",
       "  </tbody>\n",
       "</table>\n",
       "<p>14 rows × 3 columns</p>\n",
       "</div>"
      ],
      "text/plain": [
       "   Carrier      Sum             Description\n",
       "0       WN  1261855  Southwest Airlines Co.\n",
       "1       DL   875881    Delta Air Lines Inc.\n",
       "2       AA   725984  American Airlines Inc.\n",
       "3       OO   588353   Skywest Airlines Inc.\n",
       "..     ...      ...                     ...\n",
       "10      NK   117379        Spirit Air Lines\n",
       "11      F9    90836  Frontier Airlines Inc.\n",
       "12      HA    76272  Hawaiian Airlines Inc.\n",
       "13      VX    61903          Virgin America\n",
       "\n",
       "[14 rows x 3 columns]"
      ]
     },
     "execution_count": 13,
     "metadata": {},
     "output_type": "execute_result"
    },
    {
     "name": "stdout",
     "output_type": "stream",
     "text": [
      "\n"
     ]
    }
   ],
   "source": [
    "# Which airline had the most flights in 2015?\n",
    "x = pd.DataFrame(None, index=range(len(pd.unique(df_2015.CARRIER))), columns=['Carrier','Sum'])\n",
    "for i,c in enumerate(pd.unique(df_2015.CARRIER)):\n",
    "    print i,\n",
    "    x.loc[i]['Carrier'] = c\n",
    "    x.loc[i]['Sum'] = df_2015[df_2015.CARRIER == c].shape[0]\n",
    "\n",
    "df_airlines = pd.merge(x,carriers, left_on = 'Carrier', right_on = 'Code',how='left')\n",
    "df_airlines = df_airlines.drop(['Code'],axis=1)\n",
    "#df_airlines = df_airlines.drop(['Carrier','Code'],axis=1)\n",
    "df_airlines.sort_values('Sum',ascending=False).reset_index(drop=True)"
   ]
  },
  {
   "cell_type": "code",
   "execution_count": 14,
   "metadata": {
    "collapsed": false
   },
   "outputs": [],
   "source": [
    "top10carriers = df_airlines.sort_values('Sum',ascending=False).reset_index(drop=True)['Carrier'][:10]"
   ]
  },
  {
   "cell_type": "code",
   "execution_count": 15,
   "metadata": {
    "collapsed": false
   },
   "outputs": [
    {
     "data": {
      "text/html": [
       "<div>\n",
       "<table border=\"1\" class=\"dataframe\">\n",
       "  <thead>\n",
       "    <tr style=\"text-align: right;\">\n",
       "      <th></th>\n",
       "      <th>Carrier</th>\n",
       "      <th>Sum</th>\n",
       "      <th>Description</th>\n",
       "    </tr>\n",
       "  </thead>\n",
       "  <tbody>\n",
       "    <tr>\n",
       "      <th>9</th>\n",
       "      <td>WN</td>\n",
       "      <td>1261855</td>\n",
       "      <td>Southwest Airlines Co.</td>\n",
       "    </tr>\n",
       "    <tr>\n",
       "      <th>0</th>\n",
       "      <td>DL</td>\n",
       "      <td>875881</td>\n",
       "      <td>Delta Air Lines Inc.</td>\n",
       "    </tr>\n",
       "    <tr>\n",
       "      <th>12</th>\n",
       "      <td>AA</td>\n",
       "      <td>725984</td>\n",
       "      <td>American Airlines Inc.</td>\n",
       "    </tr>\n",
       "    <tr>\n",
       "      <th>11</th>\n",
       "      <td>OO</td>\n",
       "      <td>588353</td>\n",
       "      <td>Skywest Airlines Inc.</td>\n",
       "    </tr>\n",
       "    <tr>\n",
       "      <th>2</th>\n",
       "      <td>EV</td>\n",
       "      <td>571977</td>\n",
       "      <td>Atlantic Southeast Airlines</td>\n",
       "    </tr>\n",
       "    <tr>\n",
       "      <th>10</th>\n",
       "      <td>UA</td>\n",
       "      <td>515723</td>\n",
       "      <td>United Air Lines Inc.</td>\n",
       "    </tr>\n",
       "    <tr>\n",
       "      <th>5</th>\n",
       "      <td>MQ</td>\n",
       "      <td>294632</td>\n",
       "      <td>American Eagle Airlines Inc.</td>\n",
       "    </tr>\n",
       "    <tr>\n",
       "      <th>1</th>\n",
       "      <td>B6</td>\n",
       "      <td>267048</td>\n",
       "      <td>JetBlue Airways</td>\n",
       "    </tr>\n",
       "    <tr>\n",
       "      <th>7</th>\n",
       "      <td>US</td>\n",
       "      <td>198715</td>\n",
       "      <td>US Airways Inc. (Merged with America West 9/05...</td>\n",
       "    </tr>\n",
       "    <tr>\n",
       "      <th>13</th>\n",
       "      <td>AS</td>\n",
       "      <td>172521</td>\n",
       "      <td>Alaska Airlines Inc.</td>\n",
       "    </tr>\n",
       "    <tr>\n",
       "      <th>6</th>\n",
       "      <td>NK</td>\n",
       "      <td>117379</td>\n",
       "      <td>Spirit Air Lines</td>\n",
       "    </tr>\n",
       "    <tr>\n",
       "      <th>3</th>\n",
       "      <td>F9</td>\n",
       "      <td>90836</td>\n",
       "      <td>Frontier Airlines Inc.</td>\n",
       "    </tr>\n",
       "    <tr>\n",
       "      <th>4</th>\n",
       "      <td>HA</td>\n",
       "      <td>76272</td>\n",
       "      <td>Hawaiian Airlines Inc.</td>\n",
       "    </tr>\n",
       "    <tr>\n",
       "      <th>8</th>\n",
       "      <td>VX</td>\n",
       "      <td>61903</td>\n",
       "      <td>Virgin America</td>\n",
       "    </tr>\n",
       "  </tbody>\n",
       "</table>\n",
       "</div>"
      ],
      "text/plain": [
       "   Carrier      Sum                                        Description\n",
       "9       WN  1261855                             Southwest Airlines Co.\n",
       "0       DL   875881                               Delta Air Lines Inc.\n",
       "12      AA   725984                             American Airlines Inc.\n",
       "11      OO   588353                              Skywest Airlines Inc.\n",
       "2       EV   571977                        Atlantic Southeast Airlines\n",
       "10      UA   515723                              United Air Lines Inc.\n",
       "5       MQ   294632                       American Eagle Airlines Inc.\n",
       "1       B6   267048                                    JetBlue Airways\n",
       "7       US   198715  US Airways Inc. (Merged with America West 9/05...\n",
       "13      AS   172521                               Alaska Airlines Inc.\n",
       "6       NK   117379                                   Spirit Air Lines\n",
       "3       F9    90836                             Frontier Airlines Inc.\n",
       "4       HA    76272                             Hawaiian Airlines Inc.\n",
       "8       VX    61903                                     Virgin America"
      ]
     },
     "execution_count": 15,
     "metadata": {},
     "output_type": "execute_result"
    }
   ],
   "source": [
    "pd.set_option('display.max_row', 1000)\n",
    "df_airlines.sort_values('Sum',ascending=False)"
   ]
  },
  {
   "cell_type": "code",
   "execution_count": 16,
   "metadata": {
    "collapsed": false
   },
   "outputs": [
    {
     "data": {
      "text/html": [
       "<div>\n",
       "<table border=\"1\" class=\"dataframe\">\n",
       "  <thead>\n",
       "    <tr style=\"text-align: right;\">\n",
       "      <th></th>\n",
       "      <th>YEAR</th>\n",
       "      <th>MONTH</th>\n",
       "      <th>DAY_OF_MONTH</th>\n",
       "      <th>DAY_OF_WEEK</th>\n",
       "      <th>FL_DATE</th>\n",
       "      <th>UNIQUE_CARRIER</th>\n",
       "      <th>AIRLINE_ID</th>\n",
       "      <th>CARRIER</th>\n",
       "      <th>TAIL_NUM</th>\n",
       "      <th>FL_NUM</th>\n",
       "      <th>...</th>\n",
       "      <th>ACTUAL_ELAPSED_TIME</th>\n",
       "      <th>AIR_TIME</th>\n",
       "      <th>FLIGHTS</th>\n",
       "      <th>DISTANCE</th>\n",
       "      <th>CARRIER_DELAY</th>\n",
       "      <th>WEATHER_DELAY</th>\n",
       "      <th>NAS_DELAY</th>\n",
       "      <th>SECURITY_DELAY</th>\n",
       "      <th>LATE_AIRCRAFT_DELAY</th>\n",
       "      <th>Unnamed: 44</th>\n",
       "    </tr>\n",
       "  </thead>\n",
       "  <tbody>\n",
       "    <tr>\n",
       "      <th>0</th>\n",
       "      <td>2015</td>\n",
       "      <td>1</td>\n",
       "      <td>22</td>\n",
       "      <td>4</td>\n",
       "      <td>2015-01-22</td>\n",
       "      <td>DL</td>\n",
       "      <td>19790</td>\n",
       "      <td>DL</td>\n",
       "      <td>N969DL</td>\n",
       "      <td>1485</td>\n",
       "      <td>...</td>\n",
       "      <td>203.0</td>\n",
       "      <td>134.0</td>\n",
       "      <td>1.0</td>\n",
       "      <td>950.0</td>\n",
       "      <td>NaN</td>\n",
       "      <td>NaN</td>\n",
       "      <td>NaN</td>\n",
       "      <td>NaN</td>\n",
       "      <td>NaN</td>\n",
       "      <td>NaN</td>\n",
       "    </tr>\n",
       "    <tr>\n",
       "      <th>1</th>\n",
       "      <td>2015</td>\n",
       "      <td>1</td>\n",
       "      <td>22</td>\n",
       "      <td>4</td>\n",
       "      <td>2015-01-22</td>\n",
       "      <td>DL</td>\n",
       "      <td>19790</td>\n",
       "      <td>DL</td>\n",
       "      <td>N912DL</td>\n",
       "      <td>1486</td>\n",
       "      <td>...</td>\n",
       "      <td>105.0</td>\n",
       "      <td>90.0</td>\n",
       "      <td>1.0</td>\n",
       "      <td>762.0</td>\n",
       "      <td>NaN</td>\n",
       "      <td>NaN</td>\n",
       "      <td>NaN</td>\n",
       "      <td>NaN</td>\n",
       "      <td>NaN</td>\n",
       "      <td>NaN</td>\n",
       "    </tr>\n",
       "    <tr>\n",
       "      <th>2</th>\n",
       "      <td>2015</td>\n",
       "      <td>1</td>\n",
       "      <td>22</td>\n",
       "      <td>4</td>\n",
       "      <td>2015-01-22</td>\n",
       "      <td>DL</td>\n",
       "      <td>19790</td>\n",
       "      <td>DL</td>\n",
       "      <td>N359NW</td>\n",
       "      <td>1487</td>\n",
       "      <td>...</td>\n",
       "      <td>263.0</td>\n",
       "      <td>240.0</td>\n",
       "      <td>1.0</td>\n",
       "      <td>1956.0</td>\n",
       "      <td>NaN</td>\n",
       "      <td>NaN</td>\n",
       "      <td>NaN</td>\n",
       "      <td>NaN</td>\n",
       "      <td>NaN</td>\n",
       "      <td>NaN</td>\n",
       "    </tr>\n",
       "    <tr>\n",
       "      <th>3</th>\n",
       "      <td>2015</td>\n",
       "      <td>1</td>\n",
       "      <td>22</td>\n",
       "      <td>4</td>\n",
       "      <td>2015-01-22</td>\n",
       "      <td>DL</td>\n",
       "      <td>19790</td>\n",
       "      <td>DL</td>\n",
       "      <td>N957AT</td>\n",
       "      <td>1488</td>\n",
       "      <td>...</td>\n",
       "      <td>46.0</td>\n",
       "      <td>29.0</td>\n",
       "      <td>1.0</td>\n",
       "      <td>143.0</td>\n",
       "      <td>NaN</td>\n",
       "      <td>NaN</td>\n",
       "      <td>NaN</td>\n",
       "      <td>NaN</td>\n",
       "      <td>NaN</td>\n",
       "      <td>NaN</td>\n",
       "    </tr>\n",
       "    <tr>\n",
       "      <th>4</th>\n",
       "      <td>2015</td>\n",
       "      <td>1</td>\n",
       "      <td>22</td>\n",
       "      <td>4</td>\n",
       "      <td>2015-01-22</td>\n",
       "      <td>DL</td>\n",
       "      <td>19790</td>\n",
       "      <td>DL</td>\n",
       "      <td>N985DL</td>\n",
       "      <td>1489</td>\n",
       "      <td>...</td>\n",
       "      <td>140.0</td>\n",
       "      <td>123.0</td>\n",
       "      <td>1.0</td>\n",
       "      <td>689.0</td>\n",
       "      <td>NaN</td>\n",
       "      <td>NaN</td>\n",
       "      <td>NaN</td>\n",
       "      <td>NaN</td>\n",
       "      <td>NaN</td>\n",
       "      <td>NaN</td>\n",
       "    </tr>\n",
       "  </tbody>\n",
       "</table>\n",
       "<p>5 rows × 45 columns</p>\n",
       "</div>"
      ],
      "text/plain": [
       "   YEAR  MONTH  DAY_OF_MONTH  DAY_OF_WEEK     FL_DATE UNIQUE_CARRIER  \\\n",
       "0  2015      1            22            4  2015-01-22             DL   \n",
       "1  2015      1            22            4  2015-01-22             DL   \n",
       "2  2015      1            22            4  2015-01-22             DL   \n",
       "3  2015      1            22            4  2015-01-22             DL   \n",
       "4  2015      1            22            4  2015-01-22             DL   \n",
       "\n",
       "   AIRLINE_ID CARRIER TAIL_NUM  FL_NUM     ...       ACTUAL_ELAPSED_TIME  \\\n",
       "0       19790      DL   N969DL    1485     ...                     203.0   \n",
       "1       19790      DL   N912DL    1486     ...                     105.0   \n",
       "2       19790      DL   N359NW    1487     ...                     263.0   \n",
       "3       19790      DL   N957AT    1488     ...                      46.0   \n",
       "4       19790      DL   N985DL    1489     ...                     140.0   \n",
       "\n",
       "   AIR_TIME  FLIGHTS DISTANCE CARRIER_DELAY WEATHER_DELAY  NAS_DELAY  \\\n",
       "0     134.0      1.0    950.0           NaN           NaN        NaN   \n",
       "1      90.0      1.0    762.0           NaN           NaN        NaN   \n",
       "2     240.0      1.0   1956.0           NaN           NaN        NaN   \n",
       "3      29.0      1.0    143.0           NaN           NaN        NaN   \n",
       "4     123.0      1.0    689.0           NaN           NaN        NaN   \n",
       "\n",
       "  SECURITY_DELAY  LATE_AIRCRAFT_DELAY  Unnamed: 44  \n",
       "0            NaN                  NaN          NaN  \n",
       "1            NaN                  NaN          NaN  \n",
       "2            NaN                  NaN          NaN  \n",
       "3            NaN                  NaN          NaN  \n",
       "4            NaN                  NaN          NaN  \n",
       "\n",
       "[5 rows x 45 columns]"
      ]
     },
     "execution_count": 16,
     "metadata": {},
     "output_type": "execute_result"
    }
   ],
   "source": [
    "df_2015.head()"
   ]
  },
  {
   "cell_type": "markdown",
   "metadata": {},
   "source": [
    "## Which airlines flew the most flights in the past 10 years?"
   ]
  },
  {
   "cell_type": "code",
   "execution_count": 17,
   "metadata": {
    "collapsed": true
   },
   "outputs": [],
   "source": [
    "df = pd.read_sql_query('''SELECT year, carrier, count(*) as flights\n",
    "                          FROM Flights\n",
    "                          GROUP BY year, carrier''', conn)"
   ]
  },
  {
   "cell_type": "code",
   "execution_count": 18,
   "metadata": {
    "collapsed": false
   },
   "outputs": [
    {
     "data": {
      "text/html": [
       "<div>\n",
       "<table border=\"1\" class=\"dataframe\">\n",
       "  <thead>\n",
       "    <tr style=\"text-align: right;\">\n",
       "      <th></th>\n",
       "      <th>YEAR</th>\n",
       "      <th>CARRIER</th>\n",
       "      <th>flights</th>\n",
       "    </tr>\n",
       "  </thead>\n",
       "  <tbody>\n",
       "    <tr>\n",
       "      <th>0</th>\n",
       "      <td>2006</td>\n",
       "      <td>AA</td>\n",
       "      <td>643597</td>\n",
       "    </tr>\n",
       "    <tr>\n",
       "      <th>1</th>\n",
       "      <td>2006</td>\n",
       "      <td>AQ</td>\n",
       "      <td>35387</td>\n",
       "    </tr>\n",
       "    <tr>\n",
       "      <th>2</th>\n",
       "      <td>2006</td>\n",
       "      <td>AS</td>\n",
       "      <td>159404</td>\n",
       "    </tr>\n",
       "    <tr>\n",
       "      <th>3</th>\n",
       "      <td>2006</td>\n",
       "      <td>B6</td>\n",
       "      <td>155732</td>\n",
       "    </tr>\n",
       "    <tr>\n",
       "      <th>4</th>\n",
       "      <td>2006</td>\n",
       "      <td>CO</td>\n",
       "      <td>309389</td>\n",
       "    </tr>\n",
       "  </tbody>\n",
       "</table>\n",
       "</div>"
      ],
      "text/plain": [
       "   YEAR CARRIER  flights\n",
       "0  2006      AA   643597\n",
       "1  2006      AQ    35387\n",
       "2  2006      AS   159404\n",
       "3  2006      B6   155732\n",
       "4  2006      CO   309389"
      ]
     },
     "execution_count": 18,
     "metadata": {},
     "output_type": "execute_result"
    }
   ],
   "source": [
    "df.head()"
   ]
  },
  {
   "cell_type": "code",
   "execution_count": 19,
   "metadata": {
    "collapsed": false
   },
   "outputs": [],
   "source": [
    "df_top10carriers = top10carriers.to_frame('code')\n",
    "df_top10carriers = pd.merge(df_top10carriers,carriers, left_on = 'code', right_on = 'Code',how='left')\n",
    "df_top10carriers = df_top10carriers.drop(['Code'],axis=1)"
   ]
  },
  {
   "cell_type": "code",
   "execution_count": 20,
   "metadata": {
    "collapsed": false
   },
   "outputs": [
    {
     "data": {
      "text/html": [
       "<div>\n",
       "<table border=\"1\" class=\"dataframe\">\n",
       "  <thead>\n",
       "    <tr style=\"text-align: right;\">\n",
       "      <th></th>\n",
       "      <th>code</th>\n",
       "      <th>Description</th>\n",
       "    </tr>\n",
       "  </thead>\n",
       "  <tbody>\n",
       "    <tr>\n",
       "      <th>0</th>\n",
       "      <td>WN</td>\n",
       "      <td>Southwest Airlines Co.</td>\n",
       "    </tr>\n",
       "    <tr>\n",
       "      <th>1</th>\n",
       "      <td>DL</td>\n",
       "      <td>Delta Air Lines Inc.</td>\n",
       "    </tr>\n",
       "    <tr>\n",
       "      <th>2</th>\n",
       "      <td>AA</td>\n",
       "      <td>American Airlines Inc.</td>\n",
       "    </tr>\n",
       "    <tr>\n",
       "      <th>3</th>\n",
       "      <td>OO</td>\n",
       "      <td>Skywest Airlines Inc.</td>\n",
       "    </tr>\n",
       "  </tbody>\n",
       "</table>\n",
       "</div>"
      ],
      "text/plain": [
       "  code             Description\n",
       "0   WN  Southwest Airlines Co.\n",
       "1   DL    Delta Air Lines Inc.\n",
       "2   AA  American Airlines Inc.\n",
       "3   OO   Skywest Airlines Inc."
      ]
     },
     "execution_count": 20,
     "metadata": {},
     "output_type": "execute_result"
    }
   ],
   "source": [
    "df_top10carriers.head(4)"
   ]
  },
  {
   "cell_type": "code",
   "execution_count": 21,
   "metadata": {
    "collapsed": false
   },
   "outputs": [],
   "source": [
    "df_top10carriers.loc[8]['Description'] = 'US Airways Inc.'"
   ]
  },
  {
   "cell_type": "code",
   "execution_count": 22,
   "metadata": {
    "collapsed": false
   },
   "outputs": [
    {
     "data": {
      "image/png": "[encoded data removed]",
      "text/plain": [
       "<matplotlib.figure.Figure at 0x116f8d6d0>"
      ]
     },
     "metadata": {},
     "output_type": "display_data"
    }
   ],
   "source": [
    "sns.set_context('paper')\n",
    "plt.rc('figure', figsize=(10, 5))\n",
    "colours = [\"#30a2da\",\"#fc4f30\",\"#e5ae38\",\"#6d904f\",\"#8b8b8b\"] + sns.color_palette(\"Set2\", n_colors=5, desat=.9)\n",
    "with plt.style.context('fivethirtyeight'):\n",
    "    for i in xrange(10):\n",
    "        plt.plot(df[df.CARRIER == str(top10carriers[i])].groupby('YEAR')['flights'].sum(),'o-',color = colours[i])\n",
    "    plt.xlabel('Year',fontsize = 12,position=(0.3,1))\n",
    "    plt.ylabel('Number of flights',fontsize = 12)\n",
    "    plt.xticks(range(2006,2020),range(2006,2016),rotation=30)\n",
    "    plt.tick_params(labelsize=10)\n",
    "    plt.title('Total number of US flights by year',fontsize = 16,position=(0.3,1))\n",
    "    plt.legend(df_top10carriers['Description'], loc=1,fontsize = 9)"
   ]
  },
  {
   "cell_type": "code",
   "execution_count": 23,
   "metadata": {
    "collapsed": true
   },
   "outputs": [],
   "source": [
    "#select top 1 percent * from [tablename] order by newid()"
   ]
  },
  {
   "cell_type": "markdown",
   "metadata": {
    "collapsed": true
   },
   "source": [
    "## -------------------------------"
   ]
  },
  {
   "cell_type": "markdown",
   "metadata": {
    "collapsed": true
   },
   "source": [
    "## Which airports were the busiest in 2015?"
   ]
  },
  {
   "cell_type": "code",
   "execution_count": 24,
   "metadata": {
    "collapsed": true
   },
   "outputs": [],
   "source": [
    "df = pd.read_sql_query('''SELECT year, ORIGIN, count(*) as flights\n",
    "                          FROM Flights\n",
    "                          GROUP BY year, ORIGIN''', conn)"
   ]
  },
  {
   "cell_type": "code",
   "execution_count": 25,
   "metadata": {
    "collapsed": false
   },
   "outputs": [
    {
     "name": "stdout",
     "output_type": "stream",
     "text": [
      "0 1 2 3 4 5 6 7 8 9 10 11 12 13 14 15 16 17 18 19 20 21 22 23 24 25 26 27 28 29 30 31 32 33 34 35 36 37 38 39 40 41 42 43 44 45 46 47 48 49 50 51 52 53 54 55 56 57 58 59 60 61 62 63 64 65 66 67 68 69 70 71 72 73 74 75 76 77 78 79 80 81 82 83 84 85 86 87 88 89 90 91 92 93 94 95 96 97 98 99 100 101 102 103 104 105 106 107 108 109 110 111 112 113 114 115 116 117 118 119 120 121 122 123 124 125 126 127 128 129 130 131 132 133 134 135 136 137 138 139 140 141 142 143 144 145 146 147 148 149 150 151 152 153 154 155 156 157 158 159 160 161 162 163 164 165 166 167 168 169 170 171 172 173 174 175 176 177 178 179 180 181 182 183 184 185 186 187 188 189 190 191 192 193 194 195 196 197 198 199 200 201 202 203 204 205 206 207 208 209 210 211 212 213 214 215 216 217 218 219 220 221 222 223 224 225 226 227 228 229 230 231 232 233 234 235 236 237 238 239 240 241 242 243 244 245 246 247 248 249 250 251 252 253 254 255 256 257 258 259 260 261 262 263 264 265 266 267 268 269 270 271 272 273 274 275 276 277 278 279 280 281 282 283 284 285 286 287 288 289 290 291 292 293 294 295 296 297 298 299 300 301 302 303 304 305 306 307 308 309 310 311 312 313 314 315 316 317 318 319 320 321\n"
     ]
    }
   ],
   "source": [
    "# Which airline had the most flights in 2015?\n",
    "x = pd.DataFrame(None, index=range(len(pd.unique(df_2015.ORIGIN))), columns=['Airport','Sum'])\n",
    "for i,c in enumerate(pd.unique(df_2015.ORIGIN)):\n",
    "    print i,\n",
    "    x.loc[i]['Airport'] = c\n",
    "    x.loc[i]['Sum'] = df_2015[df_2015.ORIGIN == c].shape[0]"
   ]
  },
  {
   "cell_type": "code",
   "execution_count": 26,
   "metadata": {
    "collapsed": false
   },
   "outputs": [
    {
     "data": {
      "text/html": [
       "<div>\n",
       "<table border=\"1\" class=\"dataframe\">\n",
       "  <thead>\n",
       "    <tr style=\"text-align: right;\">\n",
       "      <th></th>\n",
       "      <th>Airport</th>\n",
       "      <th>Sum</th>\n",
       "    </tr>\n",
       "  </thead>\n",
       "  <tbody>\n",
       "    <tr>\n",
       "      <th>0</th>\n",
       "      <td>LGA</td>\n",
       "      <td>108195</td>\n",
       "    </tr>\n",
       "    <tr>\n",
       "      <th>1</th>\n",
       "      <td>ATL</td>\n",
       "      <td>379424</td>\n",
       "    </tr>\n",
       "    <tr>\n",
       "      <th>2</th>\n",
       "      <td>SAN</td>\n",
       "      <td>76416</td>\n",
       "    </tr>\n",
       "    <tr>\n",
       "      <th>3</th>\n",
       "      <td>IAH</td>\n",
       "      <td>159833</td>\n",
       "    </tr>\n",
       "    <tr>\n",
       "      <th>4</th>\n",
       "      <td>DTW</td>\n",
       "      <td>118425</td>\n",
       "    </tr>\n",
       "  </tbody>\n",
       "</table>\n",
       "</div>"
      ],
      "text/plain": [
       "  Airport     Sum\n",
       "0     LGA  108195\n",
       "1     ATL  379424\n",
       "2     SAN   76416\n",
       "3     IAH  159833\n",
       "4     DTW  118425"
      ]
     },
     "execution_count": 26,
     "metadata": {},
     "output_type": "execute_result"
    }
   ],
   "source": [
    "x.head()"
   ]
  },
  {
   "cell_type": "code",
   "execution_count": 27,
   "metadata": {
    "collapsed": false
   },
   "outputs": [],
   "source": [
    "df_airports = pd.merge(x,airports, left_on = 'Airport', right_on = 'iata',how='left')\n",
    "df_airports = df_airports.drop(['iata'],axis=1)\n",
    "df_airports = df_airports.sort_values('Sum',ascending=False).reset_index(drop=True)"
   ]
  },
  {
   "cell_type": "code",
   "execution_count": 28,
   "metadata": {
    "collapsed": false
   },
   "outputs": [
    {
     "data": {
      "text/html": [
       "<div>\n",
       "<table border=\"1\" class=\"dataframe\">\n",
       "  <thead>\n",
       "    <tr style=\"text-align: right;\">\n",
       "      <th></th>\n",
       "      <th>Airport</th>\n",
       "      <th>Sum</th>\n",
       "      <th>airport</th>\n",
       "      <th>city</th>\n",
       "      <th>state</th>\n",
       "      <th>country</th>\n",
       "      <th>lat</th>\n",
       "      <th>long</th>\n",
       "    </tr>\n",
       "  </thead>\n",
       "  <tbody>\n",
       "    <tr>\n",
       "      <th>0</th>\n",
       "      <td>ATL</td>\n",
       "      <td>379424</td>\n",
       "      <td>William B Hartsfield-Atlanta Intl</td>\n",
       "      <td>Atlanta</td>\n",
       "      <td>GA</td>\n",
       "      <td>USA</td>\n",
       "      <td>33.640444</td>\n",
       "      <td>-84.426944</td>\n",
       "    </tr>\n",
       "    <tr>\n",
       "      <th>1</th>\n",
       "      <td>ORD</td>\n",
       "      <td>313536</td>\n",
       "      <td>Chicago O'Hare International</td>\n",
       "      <td>Chicago</td>\n",
       "      <td>IL</td>\n",
       "      <td>USA</td>\n",
       "      <td>41.979595</td>\n",
       "      <td>-87.904464</td>\n",
       "    </tr>\n",
       "  </tbody>\n",
       "</table>\n",
       "</div>"
      ],
      "text/plain": [
       "  Airport     Sum                            airport     city state country  \\\n",
       "0     ATL  379424  William B Hartsfield-Atlanta Intl  Atlanta    GA     USA   \n",
       "1     ORD  313536       Chicago O'Hare International  Chicago    IL     USA   \n",
       "\n",
       "         lat       long  \n",
       "0  33.640444 -84.426944  \n",
       "1  41.979595 -87.904464  "
      ]
     },
     "execution_count": 28,
     "metadata": {},
     "output_type": "execute_result"
    }
   ],
   "source": [
    "df_airports.head(2)"
   ]
  },
  {
   "cell_type": "code",
   "execution_count": 29,
   "metadata": {
    "collapsed": true
   },
   "outputs": [],
   "source": [
    "df_airports[:20].to_csv('20_busiest_airports.csv')"
   ]
  },
  {
   "cell_type": "code",
   "execution_count": 30,
   "metadata": {
    "collapsed": false
   },
   "outputs": [],
   "source": [
    "#https://jerez.cartodb.com/tables/busiest_airports/map"
   ]
  },
  {
   "cell_type": "markdown",
   "metadata": {},
   "source": [
    "## -------------------------------------"
   ]
  },
  {
   "cell_type": "code",
   "execution_count": 31,
   "metadata": {
    "collapsed": true
   },
   "outputs": [],
   "source": [
    "df = pd.read_sql_query('''SELECT year, carrier, count(*) as flights\n",
    "                          FROM Flights\n",
    "                          WHERE ORIGIN in ('ATL','ORD','DFW','DEN','LAX','SFO','IAH','PHX','LAS','MSP','SEA','MCO','DTW','BOS','EWR','CLT','LGA','SLC','JFK','BWI')\n",
    "                                           OR DEST in ('ATL','ORD','DFW','DEN','LAX','SFO','IAH','PHX','LAS','MSP','SEA','MCO','DTW','BOS','EWR','CLT','LGA','SLC','JFK','BWI')\n",
    "                          GROUP BY year, carrier''', conn)"
   ]
  },
  {
   "cell_type": "code",
   "execution_count": 32,
   "metadata": {
    "collapsed": false
   },
   "outputs": [
    {
     "data": {
      "image/png": "[encoded data removed]",
      "text/plain": [
       "<matplotlib.figure.Figure at 0x1036d9750>"
      ]
     },
     "metadata": {},
     "output_type": "display_data"
    }
   ],
   "source": [
    "sns.set_context('paper')\n",
    "plt.rc('figure', figsize=(10, 5))\n",
    "colours = [\"#30a2da\",\"#fc4f30\",\"#e5ae38\",\"#6d904f\",\"#8b8b8b\"] + sns.color_palette(\"Set2\", n_colors=5, desat=.9)\n",
    "with plt.style.context('fivethirtyeight'):\n",
    "    for i in xrange(10):\n",
    "        plt.plot(df[df.CARRIER == str(top10carriers[i])].groupby('YEAR')['flights'].sum(),'o-',color = colours[i])\n",
    "    plt.xlabel('Year',fontsize = 12,position=(0.4,1))\n",
    "    plt.ylabel('Number of flights',fontsize = 12)\n",
    "    plt.xticks(range(2006,2020),range(2006,2016),rotation=30)\n",
    "    plt.tick_params(labelsize=10)\n",
    "    plt.title('Total number of US flights by year (between major airports)',fontsize = 16,position=(0.4,1))\n",
    "    plt.legend(df_top10carriers['Description'], loc=1,fontsize = 9)"
   ]
  },
  {
   "cell_type": "markdown",
   "metadata": {},
   "source": [
    "## -------------------------------------"
   ]
  },
  {
   "cell_type": "markdown",
   "metadata": {},
   "source": [
    "## Cause of flight delays in 2015"
   ]
  },
  {
   "cell_type": "code",
   "execution_count": 33,
   "metadata": {
    "collapsed": false
   },
   "outputs": [
    {
     "data": {
      "text/plain": [
       "CANCELLED\n",
       "0.0    98.46\n",
       "1.0     1.54\n",
       "Name: FL_DATE, dtype: float64"
      ]
     },
     "execution_count": 33,
     "metadata": {},
     "output_type": "execute_result"
    }
   ],
   "source": [
    "# What proportion of flights were cancelled?\n",
    "(df_2015.groupby('CANCELLED')['FL_DATE'].count() / df_2015.shape[0] * 100).round(2)"
   ]
  },
  {
   "cell_type": "code",
   "execution_count": 34,
   "metadata": {
    "collapsed": false
   },
   "outputs": [
    {
     "data": {
      "text/plain": [
       "CANCELLATION_CODE\n",
       "A    0.43\n",
       "B    0.84\n",
       "C    0.27\n",
       "D    0.00\n",
       "Name: FL_DATE, dtype: float64"
      ]
     },
     "execution_count": 34,
     "metadata": {},
     "output_type": "execute_result"
    }
   ],
   "source": [
    "# What proportion of flights were cancelled?\n",
    "# Code,Description\n",
    "# \"A\",\"Carrier\"\n",
    "# \"B\",\"Weather\"\n",
    "# \"C\",\"National Air System\"\n",
    "# \"D\",\"Security\"\n",
    "(df_2015.groupby('CANCELLATION_CODE')['FL_DATE'].count() / float(df_2015.shape[0])* 100).round(2)"
   ]
  },
  {
   "cell_type": "code",
   "execution_count": 35,
   "metadata": {
    "collapsed": false
   },
   "outputs": [
    {
     "data": {
      "text/plain": [
       "21.3"
      ]
     },
     "execution_count": 35,
     "metadata": {},
     "output_type": "execute_result"
    }
   ],
   "source": [
    "# What proportion of flights were delayed?\n",
    "round((df_2015[df_2015['DEP_DELAY'] > 10].shape[0] / float(df_2015.shape[0])*100),2)"
   ]
  },
  {
   "cell_type": "code",
   "execution_count": 36,
   "metadata": {
    "collapsed": false
   },
   "outputs": [],
   "source": [
    "df_2015 = df_2015[pd.notnull(df_2015['DEP_TIME'])]"
   ]
  },
  {
   "cell_type": "code",
   "execution_count": 37,
   "metadata": {
    "collapsed": false
   },
   "outputs": [
    {
     "data": {
      "text/plain": [
       "0"
      ]
     },
     "execution_count": 37,
     "metadata": {},
     "output_type": "execute_result"
    }
   ],
   "source": [
    "df_2015['DEP_TIME'].isnull().sum()"
   ]
  },
  {
   "cell_type": "code",
   "execution_count": 38,
   "metadata": {
    "collapsed": true
   },
   "outputs": [],
   "source": [
    "df_2015['dep_hour'] = df_2015['DEP_TIME'].apply(lambda x: int(str(int(x)).zfill(4)[:2]))"
   ]
  },
  {
   "cell_type": "code",
   "execution_count": 39,
   "metadata": {
    "collapsed": false
   },
   "outputs": [
    {
     "data": {
      "image/png": "[encoded data removed]",
      "text/plain": [
       "<matplotlib.figure.Figure at 0x152a10b10>"
      ]
     },
     "metadata": {},
     "output_type": "display_data"
    }
   ],
   "source": [
    "sns.set_context('paper')\n",
    "plt.rc('figure', figsize=(10, 5))\n",
    "legend = ['National Air System Delay','Carrier Delay','Late Aircraft Delay','Weather Delay','Security Delay']\n",
    "colours = [\"#30a2da\",\"#fc4f30\",\"#e5ae38\",\"#6d904f\",\"#8b8b8b\"] + sns.color_palette(\"Set2\", n_colors=5, desat=.9)\n",
    "with plt.style.context('fivethirtyeight'):\n",
    "    plt.plot(df_2015[df_2015['NAS_DELAY']==1].groupby('dep_hour')['DEP_DELAY'].sum(),'o-')\n",
    "    plt.plot(df_2015[df_2015['CARRIER_DELAY']==1].groupby('dep_hour')['DEP_DELAY'].sum(),'o-')\n",
    "    plt.plot(df_2015[df_2015['LATE_AIRCRAFT_DELAY']==1].groupby('dep_hour')['DEP_DELAY'].sum(),'o-')\n",
    "    plt.plot(df_2015[df_2015['WEATHER_DELAY']==1].groupby('dep_hour')['DEP_DELAY'].sum(),'o-')\n",
    "    plt.plot(df_2015[df_2015['SECURITY_DELAY']==1].groupby('dep_hour')['DEP_DELAY'].sum(),'o-')\n",
    "    plt.xlabel('Hour of day',fontsize = 12,position=(0.45,1))\n",
    "    plt.ylabel('Number of flight delays',fontsize = 13)\n",
    "    plt.tick_params(labelsize=10)\n",
    "    plt.title('Number of flight delays by hour of day',fontsize = 16, position=(0.45,1))\n",
    "    plt.legend(legend, loc=2,fontsize = 11)\n",
    "    plt.ylim([-10000,150000])"
   ]
  },
  {
   "cell_type": "markdown",
   "metadata": {},
   "source": [
    "## Now lets focus on NYC... "
   ]
  },
  {
   "cell_type": "code",
   "execution_count": 40,
   "metadata": {
    "collapsed": true
   },
   "outputs": [],
   "source": [
    "# df_2015[df_2015['ORIGIN'] == 'JFK'].shape[0]\n",
    "\n",
    "# df_2015[df_2015['ORIGIN'] == 'JFK'].groupby('MONTH')['FLIGHTS'].sum().plot(alpha=0.9)\n",
    "# df_2015[df_2015['ORIGIN'] == 'LGA'].groupby('MONTH')['FLIGHTS'].sum().plot(alpha=0.9)\n",
    "# df_2015[df_2015['ORIGIN'] == 'EWR'].groupby('MONTH')['FLIGHTS'].sum().plot(alpha=0.9)\n",
    "# plt.legend(['JFK','LGA','EWR'])\n",
    "\n",
    "# # dfmain = pd.read_sql_query('''SELECT * \n",
    "# #                           FROM Flights\n",
    "# #                           WHERE weather_delay NOT LIKE 'NaN' AND weather_delay != 0\n",
    "# #                           LIMIT 10 ''', conn)\n",
    "\n",
    "# # df = pd.read_sql_query('''SELECT * \n",
    "# #                           FROM Flights\n",
    "# #                           LEFT JOIN Carriers on (Carriers.Code = Flights.Carrier)\n",
    "# #                           LEFT JOIN Airports on (Airports.iata = Flights.ORIGIN)\n",
    "# #                           ''', conn)"
   ]
  },
  {
   "cell_type": "code",
   "execution_count": 41,
   "metadata": {
    "collapsed": false
   },
   "outputs": [
    {
     "data": {
      "text/plain": [
       "Index([u'YEAR', u'MONTH', u'DAY_OF_MONTH', u'DAY_OF_WEEK', u'FL_DATE',\n",
       "       u'UNIQUE_CARRIER', u'AIRLINE_ID', u'CARRIER', u'TAIL_NUM', u'FL_NUM',\n",
       "       u'ORIGIN_AIRPORT_ID', u'ORIGIN_AIRPORT_SEQ_ID',\n",
       "       u'ORIGIN_CITY_MARKET_ID', u'ORIGIN', u'ORIGIN_CITY_NAME',\n",
       "       u'ORIGIN_STATE_ABR', u'ORIGIN_STATE_FIPS', u'ORIGIN_STATE_NM',\n",
       "       u'ORIGIN_WAC', u'DEST_AIRPORT_ID', u'DEST_AIRPORT_SEQ_ID',\n",
       "       u'DEST_CITY_MARKET_ID', u'DEST', u'DEST_CITY_NAME', u'DEST_STATE_ABR',\n",
       "       u'DEST_STATE_FIPS', u'DEST_STATE_NM', u'DEST_WAC', u'DEP_TIME',\n",
       "       u'DEP_DELAY', u'ARR_TIME', u'ARR_DELAY', u'CANCELLED',\n",
       "       u'CANCELLATION_CODE', u'DIVERTED', u'ACTUAL_ELAPSED_TIME', u'AIR_TIME',\n",
       "       u'FLIGHTS', u'DISTANCE', u'CARRIER_DELAY', u'WEATHER_DELAY',\n",
       "       u'NAS_DELAY', u'SECURITY_DELAY', u'LATE_AIRCRAFT_DELAY', u'Unnamed: 44',\n",
       "       u'dep_hour'],\n",
       "      dtype='object')"
      ]
     },
     "execution_count": 41,
     "metadata": {},
     "output_type": "execute_result"
    }
   ],
   "source": [
    "df_2015.columns"
   ]
  },
  {
   "cell_type": "code",
   "execution_count": 42,
   "metadata": {
    "collapsed": true
   },
   "outputs": [],
   "source": [
    "df = pd.read_sql_query('''SELECT MONTH,DAY_OF_WEEK,FL_DATE,DEP_TIME,WEATHER_DELAY,NAS_DELAY\n",
    "                          FROM Flights\n",
    "                          WHERE ORIGIN in ('JFK','LGA','EWR')\n",
    "                          ''', conn)"
   ]
  },
  {
   "cell_type": "code",
   "execution_count": 43,
   "metadata": {
    "collapsed": false
   },
   "outputs": [
    {
     "data": {
      "text/plain": [
       "(3441467, 6)"
      ]
     },
     "execution_count": 43,
     "metadata": {},
     "output_type": "execute_result"
    }
   ],
   "source": [
    "df.shape"
   ]
  },
  {
   "cell_type": "markdown",
   "metadata": {},
   "source": [
    "### Get weather  data for 2006 - 2015"
   ]
  },
  {
   "cell_type": "code",
   "execution_count": null,
   "metadata": {
    "collapsed": false
   },
   "outputs": [],
   "source": [
    "import urllib2\n",
    "import datetime\n",
    "import os.path\n",
    "import glob\n",
    "import ujson\n",
    "\n",
    "PATH = '/Users/Jonathan/spotify/weather_data/'\n",
    "\n",
    "start_date = datetime.date(2006,01,01)\n",
    "end_date = datetime.date(2014,12,31)\n",
    "\n",
    "delta = datetime.timedelta(days=1)\n",
    "while start_date <= end_date:\n",
    "    url = 'http://api.wunderground.com/api/%s/history_YYYYMMDD/q/NY/New_York_City.json' % 'e7cb14d1c7eeaf3f'\n",
    "    converted = start_date.strftime('%Y-%m-%d').replace('-','')\n",
    "    file_name = PATH + converted + '.json'\n",
    "\n",
    "    if os.path.isfile(file_name):\n",
    "        print 'already have %s' % file_name\n",
    "        start_date += delta\n",
    "        continue\n",
    "\n",
    "    print 'grabbing %s' % file_name\n",
    "    page = urllib2.urlopen(url.replace('YYYYMMDD', converted))\n",
    "    content = page.read()\n",
    "    with open(file_name, 'w') as fid:\n",
    "        fid.write(content)\n",
    "\n",
    "    start_date += delta"
   ]
  },
  {
   "cell_type": "code",
   "execution_count": null,
   "metadata": {
    "collapsed": true
   },
   "outputs": [],
   "source": [
    "from os import listdir\n",
    "import re\n",
    "from os.path import isfile, join\n",
    "onlyfiles = [f for f in listdir(PATH) if isfile(join(PATH, f))]\n",
    "print onlyfiles\n",
    "only_weather_files = [f for f in onlyfiles if re.search(r'20\\d+.json',f)]\n",
    "for filename in only_weather_files:\n",
    "    print filename,"
   ]
  },
  {
   "cell_type": "code",
   "execution_count": null,
   "metadata": {
    "collapsed": false
   },
   "outputs": [],
   "source": [
    "# Convert to csv\n",
    "import ujson\n",
    "with open(PATH + 'temps.csv', 'w') as csv:\n",
    "    csv.write('datetime,temp,humidity,windspeed,visibility,rain,snow\\n')\n",
    "    for fname in only_weather_files:\n",
    "        print fname,\n",
    "        with open(PATH +fname, 'r') as f:\n",
    "            f = f.read().replace('-9999.0', 'NA').replace('-9999', 'NA')\n",
    "            #print f,\n",
    "            try:\n",
    "                j = ujson.loads(f)\n",
    "                for obs in j['history']['observations']:\n",
    "                    dt = '%s-%s-%s %s:%s:00' % (obs['date']['year'], obs['date']['mon'], obs['date']['mday'], obs['date']['hour'], obs['date']['min'])\n",
    "                    csv.write('%s,%s,%s,%s,%s,%s,%s\\n' % (dt, obs['tempi'], obs['hum'], obs['wspdi'], obs['visi'], obs['rain'], obs['snow']))\n",
    "            except:\n",
    "                pass"
   ]
  },
  {
   "cell_type": "code",
   "execution_count": 44,
   "metadata": {
    "collapsed": true
   },
   "outputs": [],
   "source": [
    "weather = pd.read_csv('/Users/Jonathan/Projects/iata/weather_data/temps.csv')\n",
    "from datetime import datetime\n",
    "weather['datetime'] = weather['datetime'].\\\n",
    "                        apply(lambda x:datetime.strptime(x, '%Y-%m-%d %H:%M:%S').\\\n",
    "                              replace(minute=0).strftime('%Y-%m-%d %H:%M:%S'))"
   ]
  },
  {
   "cell_type": "code",
   "execution_count": 45,
   "metadata": {
    "collapsed": false
   },
   "outputs": [
    {
     "data": {
      "text/html": [
       "<div>\n",
       "<table border=\"1\" class=\"dataframe\">\n",
       "  <thead>\n",
       "    <tr style=\"text-align: right;\">\n",
       "      <th></th>\n",
       "      <th>datetime</th>\n",
       "      <th>temp</th>\n",
       "      <th>humidity</th>\n",
       "      <th>windspeed</th>\n",
       "      <th>visibility</th>\n",
       "      <th>rain</th>\n",
       "      <th>snow</th>\n",
       "    </tr>\n",
       "  </thead>\n",
       "  <tbody>\n",
       "    <tr>\n",
       "      <th>0</th>\n",
       "      <td>2006-01-01 00:00:00</td>\n",
       "      <td>32.0</td>\n",
       "      <td>85.0</td>\n",
       "      <td>4.6</td>\n",
       "      <td>10.0</td>\n",
       "      <td>0</td>\n",
       "      <td>0</td>\n",
       "    </tr>\n",
       "    <tr>\n",
       "      <th>1</th>\n",
       "      <td>2006-01-01 01:00:00</td>\n",
       "      <td>32.0</td>\n",
       "      <td>87.0</td>\n",
       "      <td>0.0</td>\n",
       "      <td>8.0</td>\n",
       "      <td>0</td>\n",
       "      <td>0</td>\n",
       "    </tr>\n",
       "    <tr>\n",
       "      <th>2</th>\n",
       "      <td>2006-01-01 01:00:00</td>\n",
       "      <td>32.0</td>\n",
       "      <td>85.0</td>\n",
       "      <td>4.6</td>\n",
       "      <td>9.0</td>\n",
       "      <td>0</td>\n",
       "      <td>0</td>\n",
       "    </tr>\n",
       "  </tbody>\n",
       "</table>\n",
       "</div>"
      ],
      "text/plain": [
       "              datetime  temp  humidity  windspeed  visibility  rain  snow\n",
       "0  2006-01-01 00:00:00  32.0      85.0        4.6        10.0     0     0\n",
       "1  2006-01-01 01:00:00  32.0      87.0        0.0         8.0     0     0\n",
       "2  2006-01-01 01:00:00  32.0      85.0        4.6         9.0     0     0"
      ]
     },
     "execution_count": 45,
     "metadata": {},
     "output_type": "execute_result"
    }
   ],
   "source": [
    "weather = weather.ffill()\n",
    "weather.head(3)"
   ]
  },
  {
   "cell_type": "code",
   "execution_count": 46,
   "metadata": {
    "collapsed": false
   },
   "outputs": [
    {
     "data": {
      "text/plain": [
       "<matplotlib.axes._subplots.AxesSubplot at 0x16caf26d0>"
      ]
     },
     "execution_count": 46,
     "metadata": {},
     "output_type": "execute_result"
    },
    {
     "data": {
      "image/png": "[encoded data removed]",
      "text/plain": [
       "<matplotlib.figure.Figure at 0x167f94150>"
      ]
     },
     "metadata": {},
     "output_type": "display_data"
    }
   ],
   "source": [
    "weather['date'] = weather['datetime'].apply(lambda x: x.split()[0])\n",
    "del weather['datetime']\n",
    "weather = weather.groupby('date')[['temp','humidity','windspeed','visibility','rain','snow']].mean().reset_index()\n",
    "weather['temp'].plot()"
   ]
  },
  {
   "cell_type": "code",
   "execution_count": 47,
   "metadata": {
    "collapsed": false
   },
   "outputs": [
    {
     "data": {
      "text/html": [
       "<div>\n",
       "<table border=\"1\" class=\"dataframe\">\n",
       "  <thead>\n",
       "    <tr style=\"text-align: right;\">\n",
       "      <th></th>\n",
       "      <th>date</th>\n",
       "      <th>temp</th>\n",
       "      <th>humidity</th>\n",
       "      <th>windspeed</th>\n",
       "      <th>visibility</th>\n",
       "      <th>rain</th>\n",
       "      <th>snow</th>\n",
       "    </tr>\n",
       "  </thead>\n",
       "  <tbody>\n",
       "    <tr>\n",
       "      <th>0</th>\n",
       "      <td>2006-01-01</td>\n",
       "      <td>37.442308</td>\n",
       "      <td>75.307692</td>\n",
       "      <td>2.357692</td>\n",
       "      <td>9.538462</td>\n",
       "      <td>0.000000</td>\n",
       "      <td>0.0</td>\n",
       "    </tr>\n",
       "    <tr>\n",
       "      <th>1</th>\n",
       "      <td>2006-01-02</td>\n",
       "      <td>41.738462</td>\n",
       "      <td>73.846154</td>\n",
       "      <td>5.246154</td>\n",
       "      <td>7.884615</td>\n",
       "      <td>0.423077</td>\n",
       "      <td>0.0</td>\n",
       "    </tr>\n",
       "    <tr>\n",
       "      <th>2</th>\n",
       "      <td>2006-01-03</td>\n",
       "      <td>36.754054</td>\n",
       "      <td>86.594595</td>\n",
       "      <td>14.637838</td>\n",
       "      <td>6.878378</td>\n",
       "      <td>0.378378</td>\n",
       "      <td>0.0</td>\n",
       "    </tr>\n",
       "  </tbody>\n",
       "</table>\n",
       "</div>"
      ],
      "text/plain": [
       "         date       temp   humidity  windspeed  visibility      rain  snow\n",
       "0  2006-01-01  37.442308  75.307692   2.357692    9.538462  0.000000   0.0\n",
       "1  2006-01-02  41.738462  73.846154   5.246154    7.884615  0.423077   0.0\n",
       "2  2006-01-03  36.754054  86.594595  14.637838    6.878378  0.378378   0.0"
      ]
     },
     "execution_count": 47,
     "metadata": {},
     "output_type": "execute_result"
    }
   ],
   "source": [
    "weather.head(3)"
   ]
  },
  {
   "cell_type": "code",
   "execution_count": 48,
   "metadata": {
    "collapsed": false
   },
   "outputs": [
    {
     "data": {
      "text/html": [
       "<div>\n",
       "<table border=\"1\" class=\"dataframe\">\n",
       "  <thead>\n",
       "    <tr style=\"text-align: right;\">\n",
       "      <th></th>\n",
       "      <th>MONTH</th>\n",
       "      <th>DAY_OF_WEEK</th>\n",
       "      <th>FL_DATE</th>\n",
       "      <th>DEP_TIME</th>\n",
       "      <th>WEATHER_DELAY</th>\n",
       "      <th>NAS_DELAY</th>\n",
       "      <th>temp</th>\n",
       "      <th>humidity</th>\n",
       "      <th>windspeed</th>\n",
       "      <th>visibility</th>\n",
       "      <th>rain</th>\n",
       "      <th>snow</th>\n",
       "    </tr>\n",
       "  </thead>\n",
       "  <tbody>\n",
       "    <tr>\n",
       "      <th>0</th>\n",
       "      <td>1</td>\n",
       "      <td>4</td>\n",
       "      <td>2015-01-22</td>\n",
       "      <td>2045.0</td>\n",
       "      <td>NaN</td>\n",
       "      <td>NaN</td>\n",
       "      <td>33.418919</td>\n",
       "      <td>57.027027</td>\n",
       "      <td>3.935135</td>\n",
       "      <td>6.986486</td>\n",
       "      <td>0.0</td>\n",
       "      <td>0.0</td>\n",
       "    </tr>\n",
       "    <tr>\n",
       "      <th>1</th>\n",
       "      <td>1</td>\n",
       "      <td>4</td>\n",
       "      <td>2015-01-22</td>\n",
       "      <td>659.0</td>\n",
       "      <td>NaN</td>\n",
       "      <td>NaN</td>\n",
       "      <td>33.418919</td>\n",
       "      <td>57.027027</td>\n",
       "      <td>3.935135</td>\n",
       "      <td>6.986486</td>\n",
       "      <td>0.0</td>\n",
       "      <td>0.0</td>\n",
       "    </tr>\n",
       "    <tr>\n",
       "      <th>2</th>\n",
       "      <td>1</td>\n",
       "      <td>4</td>\n",
       "      <td>2015-01-22</td>\n",
       "      <td>1832.0</td>\n",
       "      <td>NaN</td>\n",
       "      <td>NaN</td>\n",
       "      <td>33.418919</td>\n",
       "      <td>57.027027</td>\n",
       "      <td>3.935135</td>\n",
       "      <td>6.986486</td>\n",
       "      <td>0.0</td>\n",
       "      <td>0.0</td>\n",
       "    </tr>\n",
       "    <tr>\n",
       "      <th>3</th>\n",
       "      <td>1</td>\n",
       "      <td>4</td>\n",
       "      <td>2015-01-22</td>\n",
       "      <td>1630.0</td>\n",
       "      <td>NaN</td>\n",
       "      <td>NaN</td>\n",
       "      <td>33.418919</td>\n",
       "      <td>57.027027</td>\n",
       "      <td>3.935135</td>\n",
       "      <td>6.986486</td>\n",
       "      <td>0.0</td>\n",
       "      <td>0.0</td>\n",
       "    </tr>\n",
       "  </tbody>\n",
       "</table>\n",
       "</div>"
      ],
      "text/plain": [
       "   MONTH  DAY_OF_WEEK     FL_DATE  DEP_TIME  WEATHER_DELAY  NAS_DELAY  \\\n",
       "0      1            4  2015-01-22    2045.0            NaN        NaN   \n",
       "1      1            4  2015-01-22     659.0            NaN        NaN   \n",
       "2      1            4  2015-01-22    1832.0            NaN        NaN   \n",
       "3      1            4  2015-01-22    1630.0            NaN        NaN   \n",
       "\n",
       "        temp   humidity  windspeed  visibility  rain  snow  \n",
       "0  33.418919  57.027027   3.935135    6.986486   0.0   0.0  \n",
       "1  33.418919  57.027027   3.935135    6.986486   0.0   0.0  \n",
       "2  33.418919  57.027027   3.935135    6.986486   0.0   0.0  \n",
       "3  33.418919  57.027027   3.935135    6.986486   0.0   0.0  "
      ]
     },
     "execution_count": 48,
     "metadata": {},
     "output_type": "execute_result"
    }
   ],
   "source": [
    "df_weather = pd.merge(df,weather,left_on = 'FL_DATE', right_on = 'date' ,how='left')\n",
    "df_weather = df_weather.drop(['date'],axis=1)\n",
    "df_weather.head(4)"
   ]
  },
  {
   "cell_type": "markdown",
   "metadata": {},
   "source": [
    "## Predict NYC departure delays due to weather"
   ]
  },
  {
   "cell_type": "code",
   "execution_count": 49,
   "metadata": {
    "collapsed": true
   },
   "outputs": [],
   "source": [
    "df = df_weather\n",
    "df.shape[0]\n",
    "df = df.dropna(how='any')"
   ]
  },
  {
   "cell_type": "code",
   "execution_count": 50,
   "metadata": {
    "collapsed": false
   },
   "outputs": [
    {
     "name": "stdout",
     "output_type": "stream",
     "text": [
      "Index([u'MONTH', u'DAY_OF_WEEK', u'FL_DATE', u'DEP_TIME', u'WEATHER_DELAY',\n",
      "       u'NAS_DELAY', u'temp', u'humidity', u'windspeed', u'visibility',\n",
      "       u'rain', u'snow'],\n",
      "      dtype='object')\n"
     ]
    }
   ],
   "source": [
    "from sklearn import base, metrics\n",
    "from sklearn import cross_validation\n",
    "from sklearn.cross_validation import cross_val_score, KFold\n",
    "\n",
    "print df.columns"
   ]
  },
  {
   "cell_type": "code",
   "execution_count": 51,
   "metadata": {
    "collapsed": false
   },
   "outputs": [
    {
     "data": {
      "text/plain": [
       "Index([u'MONTH', u'DAY_OF_WEEK', u'FL_DATE', u'DEP_TIME', u'WEATHER_DELAY',\n",
       "       u'NAS_DELAY', u'temp', u'humidity', u'windspeed', u'visibility',\n",
       "       u'rain', u'snow'],\n",
       "      dtype='object')"
      ]
     },
     "execution_count": 51,
     "metadata": {},
     "output_type": "execute_result"
    }
   ],
   "source": [
    "df.columns"
   ]
  },
  {
   "cell_type": "code",
   "execution_count": 52,
   "metadata": {
    "collapsed": false
   },
   "outputs": [
    {
     "data": {
      "text/plain": [
       "21.99288074826066"
      ]
     },
     "execution_count": 52,
     "metadata": {},
     "output_type": "execute_result"
    }
   ],
   "source": [
    "from sklearn import datasets, tree, utils\n",
    "\n",
    "X = df[['MONTH','DAY_OF_WEEK','DEP_TIME','temp','humidity','windspeed','visibility','rain','snow']] \n",
    "y = df['WEATHER_DELAY']\n",
    "\n",
    "tree_clf = tree.DecisionTreeClassifier(max_depth=10)\n",
    "\n",
    "cv = cross_validation.ShuffleSplit(len(y), n_iter=20, test_size=0.2, random_state=42)\n",
    "r2 =  cross_validation.cross_val_score(tree_clf, X, y, cv=cv).mean()\n",
    "score = r2\n",
    "mse =  - cross_validation.cross_val_score(tree_clf, X, y, cv=cv, scoring='mean_squared_error').mean()\n",
    "np.sqrt(mse)"
   ]
  },
  {
   "cell_type": "code",
   "execution_count": 53,
   "metadata": {
    "collapsed": false
   },
   "outputs": [
    {
     "data": {
      "text/plain": [
       "0.92785227598053255"
      ]
     },
     "execution_count": 53,
     "metadata": {},
     "output_type": "execute_result"
    }
   ],
   "source": [
    "score"
   ]
  },
  {
   "cell_type": "code",
   "execution_count": 54,
   "metadata": {
    "collapsed": false
   },
   "outputs": [
    {
     "data": {
      "text/plain": [
       "array([ 0.00956787,  0.01911935,  0.20066698,  0.16907349,  0.068071  ,\n",
       "        0.05697099,  0.1941407 ,  0.07226987,  0.21011975])"
      ]
     },
     "execution_count": 54,
     "metadata": {},
     "output_type": "execute_result"
    }
   ],
   "source": [
    "# feature importance\n",
    "X_train, X_test, y_train, y_test = cross_validation.train_test_split(X, y, test_size=0.2)\n",
    "tree_clf = tree.DecisionTreeClassifier(max_depth=10)\n",
    "tree_clf.fit(X_train, y_train)\n",
    "y_pred = tree_clf.predict(X_test)\n",
    "tree_clf.feature_importances_"
   ]
  },
  {
   "cell_type": "code",
   "execution_count": 57,
   "metadata": {
    "collapsed": false
   },
   "outputs": [
    {
     "data": {
      "image/png": "[encoded data removed]",
      "text/plain": [
       "<matplotlib.figure.Figure at 0x2f2829410>"
      ]
     },
     "metadata": {},
     "output_type": "display_data"
    }
   ],
   "source": [
    "names = ['Month','Day of the week','Departure Time','Temperature','Humidity','Windspeed','Visibility','Rain','Snow']\n",
    "imp = tree_clf.feature_importances_\n",
    "imp, names = zip(*sorted(zip(imp,names)))\n",
    "# make importances relative to max importance\n",
    "plt.rcParams['figure.figsize'] = (10, 6)\n",
    "\n",
    "plt.barh(np.arange(len(names))+.6, imp, align='center')\n",
    "plt.yticks(np.arange(len(names))+.6, names,fontsize = 10)\n",
    "plt.xlabel('Relative Importance',fontsize = 12)\n",
    "plt.title('Variable Importance',fontsize = 14)\n",
    "plt.show()"
   ]
  },
  {
   "cell_type": "markdown",
   "metadata": {
    "collapsed": true
   },
   "source": [
    "## Mini-project\n",
    "\n",
    "Given a destination, date and time, get a recommendation whether to leave from JFK, LaGuardia or Newark, and with which airline "
   ]
  },
  {
   "cell_type": "code",
   "execution_count": 56,
   "metadata": {
    "collapsed": false
   },
   "outputs": [
    {
     "data": {
      "text/html": [
       "<div>\n",
       "<table border=\"1\" class=\"dataframe\">\n",
       "  <thead>\n",
       "    <tr style=\"text-align: right;\">\n",
       "      <th></th>\n",
       "      <th>YEAR</th>\n",
       "      <th>MONTH</th>\n",
       "      <th>DAY_OF_MONTH</th>\n",
       "      <th>DAY_OF_WEEK</th>\n",
       "      <th>FL_DATE</th>\n",
       "      <th>UNIQUE_CARRIER</th>\n",
       "      <th>AIRLINE_ID</th>\n",
       "      <th>CARRIER</th>\n",
       "      <th>TAIL_NUM</th>\n",
       "      <th>FL_NUM</th>\n",
       "      <th>...</th>\n",
       "      <th>AIR_TIME</th>\n",
       "      <th>FLIGHTS</th>\n",
       "      <th>DISTANCE</th>\n",
       "      <th>CARRIER_DELAY</th>\n",
       "      <th>WEATHER_DELAY</th>\n",
       "      <th>NAS_DELAY</th>\n",
       "      <th>SECURITY_DELAY</th>\n",
       "      <th>LATE_AIRCRAFT_DELAY</th>\n",
       "      <th>Unnamed: 44</th>\n",
       "      <th>dep_hour</th>\n",
       "    </tr>\n",
       "  </thead>\n",
       "  <tbody>\n",
       "    <tr>\n",
       "      <th>0</th>\n",
       "      <td>2015</td>\n",
       "      <td>1</td>\n",
       "      <td>22</td>\n",
       "      <td>4</td>\n",
       "      <td>2015-01-22</td>\n",
       "      <td>DL</td>\n",
       "      <td>19790</td>\n",
       "      <td>DL</td>\n",
       "      <td>N969DL</td>\n",
       "      <td>1485</td>\n",
       "      <td>...</td>\n",
       "      <td>134.0</td>\n",
       "      <td>1.0</td>\n",
       "      <td>950.0</td>\n",
       "      <td>NaN</td>\n",
       "      <td>NaN</td>\n",
       "      <td>NaN</td>\n",
       "      <td>NaN</td>\n",
       "      <td>NaN</td>\n",
       "      <td>NaN</td>\n",
       "      <td>20</td>\n",
       "    </tr>\n",
       "    <tr>\n",
       "      <th>1</th>\n",
       "      <td>2015</td>\n",
       "      <td>1</td>\n",
       "      <td>22</td>\n",
       "      <td>4</td>\n",
       "      <td>2015-01-22</td>\n",
       "      <td>DL</td>\n",
       "      <td>19790</td>\n",
       "      <td>DL</td>\n",
       "      <td>N912DL</td>\n",
       "      <td>1486</td>\n",
       "      <td>...</td>\n",
       "      <td>90.0</td>\n",
       "      <td>1.0</td>\n",
       "      <td>762.0</td>\n",
       "      <td>NaN</td>\n",
       "      <td>NaN</td>\n",
       "      <td>NaN</td>\n",
       "      <td>NaN</td>\n",
       "      <td>NaN</td>\n",
       "      <td>NaN</td>\n",
       "      <td>13</td>\n",
       "    </tr>\n",
       "    <tr>\n",
       "      <th>2</th>\n",
       "      <td>2015</td>\n",
       "      <td>1</td>\n",
       "      <td>22</td>\n",
       "      <td>4</td>\n",
       "      <td>2015-01-22</td>\n",
       "      <td>DL</td>\n",
       "      <td>19790</td>\n",
       "      <td>DL</td>\n",
       "      <td>N359NW</td>\n",
       "      <td>1487</td>\n",
       "      <td>...</td>\n",
       "      <td>240.0</td>\n",
       "      <td>1.0</td>\n",
       "      <td>1956.0</td>\n",
       "      <td>NaN</td>\n",
       "      <td>NaN</td>\n",
       "      <td>NaN</td>\n",
       "      <td>NaN</td>\n",
       "      <td>NaN</td>\n",
       "      <td>NaN</td>\n",
       "      <td>11</td>\n",
       "    </tr>\n",
       "    <tr>\n",
       "      <th>3</th>\n",
       "      <td>2015</td>\n",
       "      <td>1</td>\n",
       "      <td>22</td>\n",
       "      <td>4</td>\n",
       "      <td>2015-01-22</td>\n",
       "      <td>DL</td>\n",
       "      <td>19790</td>\n",
       "      <td>DL</td>\n",
       "      <td>N957AT</td>\n",
       "      <td>1488</td>\n",
       "      <td>...</td>\n",
       "      <td>29.0</td>\n",
       "      <td>1.0</td>\n",
       "      <td>143.0</td>\n",
       "      <td>NaN</td>\n",
       "      <td>NaN</td>\n",
       "      <td>NaN</td>\n",
       "      <td>NaN</td>\n",
       "      <td>NaN</td>\n",
       "      <td>NaN</td>\n",
       "      <td>19</td>\n",
       "    </tr>\n",
       "    <tr>\n",
       "      <th>4</th>\n",
       "      <td>2015</td>\n",
       "      <td>1</td>\n",
       "      <td>22</td>\n",
       "      <td>4</td>\n",
       "      <td>2015-01-22</td>\n",
       "      <td>DL</td>\n",
       "      <td>19790</td>\n",
       "      <td>DL</td>\n",
       "      <td>N985DL</td>\n",
       "      <td>1489</td>\n",
       "      <td>...</td>\n",
       "      <td>123.0</td>\n",
       "      <td>1.0</td>\n",
       "      <td>689.0</td>\n",
       "      <td>NaN</td>\n",
       "      <td>NaN</td>\n",
       "      <td>NaN</td>\n",
       "      <td>NaN</td>\n",
       "      <td>NaN</td>\n",
       "      <td>NaN</td>\n",
       "      <td>13</td>\n",
       "    </tr>\n",
       "  </tbody>\n",
       "</table>\n",
       "<p>5 rows × 46 columns</p>\n",
       "</div>"
      ],
      "text/plain": [
       "   YEAR  MONTH  DAY_OF_MONTH  DAY_OF_WEEK     FL_DATE UNIQUE_CARRIER  \\\n",
       "0  2015      1            22            4  2015-01-22             DL   \n",
       "1  2015      1            22            4  2015-01-22             DL   \n",
       "2  2015      1            22            4  2015-01-22             DL   \n",
       "3  2015      1            22            4  2015-01-22             DL   \n",
       "4  2015      1            22            4  2015-01-22             DL   \n",
       "\n",
       "   AIRLINE_ID CARRIER TAIL_NUM  FL_NUM    ...     AIR_TIME  FLIGHTS  DISTANCE  \\\n",
       "0       19790      DL   N969DL    1485    ...        134.0      1.0     950.0   \n",
       "1       19790      DL   N912DL    1486    ...         90.0      1.0     762.0   \n",
       "2       19790      DL   N359NW    1487    ...        240.0      1.0    1956.0   \n",
       "3       19790      DL   N957AT    1488    ...         29.0      1.0     143.0   \n",
       "4       19790      DL   N985DL    1489    ...        123.0      1.0     689.0   \n",
       "\n",
       "  CARRIER_DELAY WEATHER_DELAY NAS_DELAY  SECURITY_DELAY LATE_AIRCRAFT_DELAY  \\\n",
       "0           NaN           NaN       NaN             NaN                 NaN   \n",
       "1           NaN           NaN       NaN             NaN                 NaN   \n",
       "2           NaN           NaN       NaN             NaN                 NaN   \n",
       "3           NaN           NaN       NaN             NaN                 NaN   \n",
       "4           NaN           NaN       NaN             NaN                 NaN   \n",
       "\n",
       "   Unnamed: 44  dep_hour  \n",
       "0          NaN        20  \n",
       "1          NaN        13  \n",
       "2          NaN        11  \n",
       "3          NaN        19  \n",
       "4          NaN        13  \n",
       "\n",
       "[5 rows x 46 columns]"
      ]
     },
     "execution_count": 56,
     "metadata": {},
     "output_type": "execute_result"
    }
   ],
   "source": [
    "df_2015.head()"
   ]
  },
  {
   "cell_type": "code",
   "execution_count": 57,
   "metadata": {
    "collapsed": false
   },
   "outputs": [],
   "source": [
    "from sklearn import base, metrics\n",
    "from sklearn import cross_validation\n",
    "from sklearn.cross_validation import cross_val_score, KFold"
   ]
  },
  {
   "cell_type": "code",
   "execution_count": 3,
   "metadata": {
    "collapsed": false
   },
   "outputs": [
    {
     "ename": "NameError",
     "evalue": "name 'STATIONS' is not defined",
     "output_type": "error",
     "traceback": [
      "\u001b[0;31m---------------------------------------------------------------------------\u001b[0m",
      "\u001b[0;31mNameError\u001b[0m                                 Traceback (most recent call last)",
      "\u001b[0;32m<ipython-input-3-90d44fd9ad14>\u001b[0m in \u001b[0;36m<module>\u001b[0;34m()\u001b[0m\n\u001b[1;32m      3\u001b[0m \u001b[0mmse_linModel\u001b[0m \u001b[0;34m=\u001b[0m \u001b[0;34m[\u001b[0m\u001b[0;34m]\u001b[0m\u001b[0;34m\u001b[0m\u001b[0m\n\u001b[1;32m      4\u001b[0m \u001b[0mi\u001b[0m \u001b[0;34m=\u001b[0m \u001b[0;36m0\u001b[0m\u001b[0;34m\u001b[0m\u001b[0m\n\u001b[0;32m----> 5\u001b[0;31m \u001b[0;32mfor\u001b[0m \u001b[0ms\u001b[0m \u001b[0;32min\u001b[0m \u001b[0mSTATIONS\u001b[0m\u001b[0;34m:\u001b[0m\u001b[0;34m\u001b[0m\u001b[0m\n\u001b[0m\u001b[1;32m      6\u001b[0m     \u001b[0mi\u001b[0m \u001b[0;34m+=\u001b[0m \u001b[0;36m1\u001b[0m\u001b[0;34m\u001b[0m\u001b[0m\n\u001b[1;32m      7\u001b[0m     \u001b[0;32mprint\u001b[0m \u001b[0mi\u001b[0m\u001b[0;34m,\u001b[0m\u001b[0;34m\u001b[0m\u001b[0m\n",
      "\u001b[0;31mNameError\u001b[0m: name 'STATIONS' is not defined"
     ]
    }
   ],
   "source": [
    "from sklearn.linear_model import LinearRegression\n",
    "scores_linModel = []\n",
    "mse_linModel = []\n",
    "i = 0\n",
    "for s in STATIONS:\n",
    "    i += 1\n",
    "    print i,\n",
    "    df_station = df[df['station'] == s]\n",
    "    X = df_station[['month','dayofweek','hour','minute','temp','humidity','windspeed','visibility','rain','snow']] \n",
    "    y = df_station['net_change']\n",
    "\n",
    "    cv = cross_validation.ShuffleSplit(len(y), n_iter=20, test_size=0.2, random_state=42)\n",
    "    r2 =  - cross_validation.cross_val_score(LinearRegression(), X, y, cv=cv).mean()\n",
    "    scores_linModel.append(r2)\n",
    "    mse =  - cross_validation.cross_val_score(LinearRegression(), X, y, cv=cv, scoring='mean_squared_error').mean()\n",
    "    mse_linModel.append(mse)"
   ]
  },
  {
   "cell_type": "code",
   "execution_count": null,
   "metadata": {
    "collapsed": false
   },
   "outputs": [],
   "source": [
    "from sklearn import datasets, tree, utils\n",
    "\n",
    "scores_rfModel = []\n",
    "mse_rfModel = []\n",
    "feature_importance = []\n",
    "i = 0\n",
    "for s in STATIONS:\n",
    "    i += 1\n",
    "    print i,\n",
    "    df_station = df[df['station'] == s]\n",
    "    X = df_station[['month','dayofweek','hour','minute','temp','humidity','windspeed','visibility','rain','snow']]\n",
    "    y = df_station['net_change']\n",
    "    \n",
    "    tree_clf = tree.DecisionTreeClassifier(max_depth=10)\n",
    "    \n",
    "    cv = cross_validation.ShuffleSplit(len(y), n_iter=20, test_size=0.2, random_state=42)\n",
    "    r2 =  - cross_validation.cross_val_score(tree_clf, X, y, cv=cv).mean()\n",
    "    scores_rfModel.append(r2)\n",
    "    mse =  - cross_validation.cross_val_score(tree_clf, X, y, cv=cv, scoring='mean_squared_error').mean()\n",
    "    mse_rfModel.append(mse)\n",
    "    \n",
    "    # feature importance\n",
    "    X_train, X_test, y_train, y_test = cross_validation.train_test_split(X, y, test_size=0.2)\n",
    "    tree_clf = tree.DecisionTreeClassifier(max_depth=10)\n",
    "    tree_clf.fit(X_train, y_train)\n",
    "    y_pred = tree_clf.predict(X_test)\n",
    "    feature_importance.append(tree_clf.feature_importances_)"
   ]
  },
  {
   "cell_type": "markdown",
   "metadata": {},
   "source": [
    "### Plot heatmap given an airport"
   ]
  },
  {
   "cell_type": "code",
   "execution_count": null,
   "metadata": {
    "collapsed": false
   },
   "outputs": [],
   "source": [
    "from bokeh.sampledata.unemployment1948 import data\n",
    "from bokeh.io import output_notebook\n",
    "    \n",
    "# pandas magic\n",
    "df = data[data.columns[:-2]]\n",
    "df2 = df.set_index(df[df.columns[0]].astype(str))\n",
    "df2.drop(df.columns[0], axis=1, inplace=True)\n",
    "df3 = df2.transpose()\n",
    "\n",
    "# bokeh magic\n",
    "from bokeh.charts import HeatMap\n",
    "hm = HeatMap(\n",
    "    df3, title=\"categorical heatmap, pd input\")\n",
    "hm.show()"
   ]
  },
  {
   "cell_type": "code",
   "execution_count": null,
   "metadata": {
    "collapsed": true
   },
   "outputs": [],
   "source": [
    "from bokeh.charts import HeatMap, show\n",
    "from bokeh.io import output_notebook"
   ]
  },
  {
   "cell_type": "code",
   "execution_count": null,
   "metadata": {
    "collapsed": false
   },
   "outputs": [],
   "source": [
    "output_notebook()\n",
    "# (dict, OrderedDict, lists, arrays and DataFrames are valid inputs)\n",
    "data = {'fruit': ['apples']*3 + ['bananas']*3 + ['pears']*3,\n",
    "        'fruit_count': [4, 5, 8, 1, 2, 4, 6, 5, 4],\n",
    "        'sample': [1, 2, 3]*3}\n",
    "\n",
    "hm = HeatMap(data, x='fruit', y='sample', values='fruit_count',\n",
    "             title='Fruits', stat=None)\n",
    "\n",
    "show(hm)\n",
    "\n",
    "output_notebook()\n",
    "TOOLS = \"pan, box_zoom, wheel_zoom, reset, save\""
   ]
  },
  {
   "cell_type": "code",
   "execution_count": null,
   "metadata": {
    "collapsed": true
   },
   "outputs": [],
   "source": []
  }
 ],
 "metadata": {
  "kernelspec": {
   "display_name": "Python 2",
   "language": "python",
   "name": "python2"
  },
  "language_info": {
   "codemirror_mode": {
    "name": "ipython",
    "version": 2
   },
   "file_extension": ".py",
   "mimetype": "text/x-python",
   "name": "python",
   "nbconvert_exporter": "python",
   "pygments_lexer": "ipython2",
   "version": "2.7.9"
  }
 },
 "nbformat": 4,
 "nbformat_minor": 0
}
